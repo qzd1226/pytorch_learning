{
 "cells": [
  {
   "cell_type": "markdown",
   "id": "f951eaed",
   "metadata": {},
   "source": [
    "# 导入Pytorch包"
   ]
  },
  {
   "cell_type": "code",
   "execution_count": 1,
   "id": "4729c5ad",
   "metadata": {},
   "outputs": [
    {
     "name": "stdout",
     "output_type": "stream",
     "text": [
      "1.8.1\n"
     ]
    }
   ],
   "source": [
    "import torch\n",
    "print(torch.__version__)"
   ]
  },
  {
   "cell_type": "markdown",
   "id": "36c10c86",
   "metadata": {},
   "source": [
    "# Pytorch中的张量"
   ]
  },
  {
   "cell_type": "code",
   "execution_count": 2,
   "id": "4d225e1e",
   "metadata": {},
   "outputs": [
    {
     "data": {
      "text/plain": [
       "tensor([[[ 1.4984, -0.9228,  1.4272,  0.1067],\n",
       "         [-0.4146,  0.0096, -1.4511, -0.5422],\n",
       "         [-0.7358, -2.6458,  0.4067, -0.4270]],\n",
       "\n",
       "        [[ 0.4901, -0.9034, -1.4142, -0.9202],\n",
       "         [ 1.2967,  0.5022, -0.5990, -1.5181],\n",
       "         [-1.7619,  0.2434, -0.1443, -1.7986]]])"
      ]
     },
     "execution_count": 2,
     "metadata": {},
     "output_type": "execute_result"
    }
   ],
   "source": [
    "t = torch.randn(2,3,4) # 构造2×3×4的张量\n",
    "t"
   ]
  },
  {
   "cell_type": "code",
   "execution_count": 3,
   "id": "f2a50fc8",
   "metadata": {},
   "outputs": [
    {
     "data": {
      "text/plain": [
       "tensor(-1.7986)"
      ]
     },
     "execution_count": 3,
     "metadata": {},
     "output_type": "execute_result"
    }
   ],
   "source": [
    "t[1,2,3] # 取张量在0维1号、1维2号、2维3号的元素（编号从0开始）"
   ]
  },
  {
   "cell_type": "code",
   "execution_count": 4,
   "id": "6e00ee59",
   "metadata": {},
   "outputs": [
    {
     "data": {
      "text/plain": [
       "tensor([[[ 0.0096, -1.4511]],\n",
       "\n",
       "        [[ 0.5022, -0.5990]]])"
      ]
     },
     "execution_count": 4,
     "metadata": {},
     "output_type": "execute_result"
    }
   ],
   "source": [
    "t[:,1:-1,1:3] # 仅仅一个冒号表示取所有的，-1表示最后一个元素"
   ]
  },
  {
   "cell_type": "code",
   "execution_count": 5,
   "id": "d9f8bcdf",
   "metadata": {},
   "outputs": [
    {
     "data": {
      "text/plain": [
       "tensor([[[ 1.4984e+00, -9.2275e-01,  1.4272e+00,  1.0665e-01],\n",
       "         [-4.1462e-01,  9.5839e-03, -1.4511e+00, -5.4220e-01],\n",
       "         [-7.3581e-01, -2.6458e+00,  4.0668e-01, -4.2700e-01]],\n",
       "\n",
       "        [[ 4.9011e-01, -9.0341e-01, -1.4142e+00, -9.2017e-01],\n",
       "         [ 1.2967e+00,  5.0223e-01, -5.9902e-01, -1.5181e+00],\n",
       "         [-1.7619e+00,  2.4338e-01, -1.4431e-01, -1.0000e+01]]])"
      ]
     },
     "execution_count": 5,
     "metadata": {},
     "output_type": "execute_result"
    }
   ],
   "source": [
    "t[1,2,3] = -10\n",
    "t"
   ]
  },
  {
   "cell_type": "code",
   "execution_count": 6,
   "id": "44bd0c7f",
   "metadata": {},
   "outputs": [
    {
     "data": {
      "text/plain": [
       "tensor([[[ True, False,  True,  True],\n",
       "         [False,  True, False, False],\n",
       "         [False, False,  True, False]],\n",
       "\n",
       "        [[ True, False, False, False],\n",
       "         [ True,  True, False, False],\n",
       "         [False,  True, False, False]]])"
      ]
     },
     "execution_count": 6,
     "metadata": {},
     "output_type": "execute_result"
    }
   ],
   "source": [
    "t > 0 # 张量大于零部分的掩码"
   ]
  },
  {
   "cell_type": "code",
   "execution_count": 7,
   "id": "eec0e772",
   "metadata": {},
   "outputs": [
    {
     "data": {
      "text/plain": [
       "tensor([1.4984, 1.4272, 0.1067, 0.0096, 0.4067, 0.4901, 1.2967, 0.5022, 0.2434])"
      ]
     },
     "execution_count": 7,
     "metadata": {},
     "output_type": "execute_result"
    }
   ],
   "source": [
    "t[t>0] # 根据掩码选择张量的元素，注意最后选出来的是一个向量"
   ]
  },
  {
   "cell_type": "code",
   "execution_count": 8,
   "id": "c6d2745f",
   "metadata": {},
   "outputs": [
    {
     "data": {
      "text/plain": [
       "tensor([[0.0121, 0.5494, 0.7134, 0.2747],\n",
       "        [0.7769, 0.4577, 0.4190, 0.7304],\n",
       "        [0.9208, 0.1160, 0.3357, 0.8412]])"
      ]
     },
     "execution_count": 8,
     "metadata": {},
     "output_type": "execute_result"
    }
   ],
   "source": [
    "t1 = torch.rand(3, 4) # 产生一个3×4的张量\n",
    "t1 # 打印张量的值"
   ]
  },
  {
   "cell_type": "code",
   "execution_count": 9,
   "id": "a7b790f4",
   "metadata": {},
   "outputs": [
    {
     "data": {
      "text/plain": [
       "tensor([[0.1100, 0.7412, 0.8446, 0.5241],\n",
       "        [0.8814, 0.6766, 0.6473, 0.8546],\n",
       "        [0.9596, 0.3406, 0.5794, 0.9172]])"
      ]
     },
     "execution_count": 9,
     "metadata": {},
     "output_type": "execute_result"
    }
   ],
   "source": [
    "t1.sqrt() # 张量的平方根，张量内部方法"
   ]
  },
  {
   "cell_type": "code",
   "execution_count": 10,
   "id": "96a7e7b6",
   "metadata": {},
   "outputs": [
    {
     "data": {
      "text/plain": [
       "tensor([[0.1100, 0.7412, 0.8446, 0.5241],\n",
       "        [0.8814, 0.6766, 0.6473, 0.8546],\n",
       "        [0.9596, 0.3406, 0.5794, 0.9172]])"
      ]
     },
     "execution_count": 10,
     "metadata": {},
     "output_type": "execute_result"
    }
   ],
   "source": [
    "torch.sqrt(t1) # 张量的平方根，函数形式"
   ]
  },
  {
   "cell_type": "code",
   "execution_count": 11,
   "id": "f901024d",
   "metadata": {},
   "outputs": [
    {
     "data": {
      "text/plain": [
       "tensor([[0.1100, 0.7412, 0.8446, 0.5241],\n",
       "        [0.8814, 0.6766, 0.6473, 0.8546],\n",
       "        [0.9596, 0.3406, 0.5794, 0.9172]])"
      ]
     },
     "execution_count": 11,
     "metadata": {},
     "output_type": "execute_result"
    }
   ],
   "source": [
    "t1.sqrt_() # 平方根原地操作"
   ]
  },
  {
   "cell_type": "code",
   "execution_count": 12,
   "id": "4e881df1",
   "metadata": {},
   "outputs": [
    {
     "data": {
      "text/plain": [
       "tensor(8.0767)"
      ]
     },
     "execution_count": 12,
     "metadata": {},
     "output_type": "execute_result"
    }
   ],
   "source": [
    "torch.sum(t1) # 默认对所有的元素求和"
   ]
  },
  {
   "cell_type": "code",
   "execution_count": 13,
   "id": "28030c42",
   "metadata": {},
   "outputs": [
    {
     "data": {
      "text/plain": [
       "tensor([1.9510, 1.7584, 2.0714, 2.2959])"
      ]
     },
     "execution_count": 13,
     "metadata": {},
     "output_type": "execute_result"
    }
   ],
   "source": [
    "torch.sum(t1, 0) # 对第0维的元素求和"
   ]
  },
  {
   "cell_type": "code",
   "execution_count": 14,
   "id": "2bd9dbc6",
   "metadata": {},
   "outputs": [
    {
     "data": {
      "text/plain": [
       "tensor(8.0767)"
      ]
     },
     "execution_count": 14,
     "metadata": {},
     "output_type": "execute_result"
    }
   ],
   "source": [
    "torch.sum(t1, [0,1]) # 对第0、1维的元素求和"
   ]
  },
  {
   "cell_type": "code",
   "execution_count": 15,
   "id": "afb0eaaf",
   "metadata": {},
   "outputs": [
    {
     "data": {
      "text/plain": [
       "tensor(0.6731)"
      ]
     },
     "execution_count": 15,
     "metadata": {},
     "output_type": "execute_result"
    }
   ],
   "source": [
    "t1.mean() # 对所有元素求平均，也可以用torch.mean函数"
   ]
  },
  {
   "cell_type": "code",
   "execution_count": 16,
   "id": "f34714b7",
   "metadata": {},
   "outputs": [
    {
     "data": {
      "text/plain": [
       "tensor([0.6503, 0.5861, 0.6905, 0.7653])"
      ]
     },
     "execution_count": 16,
     "metadata": {},
     "output_type": "execute_result"
    }
   ],
   "source": [
    "t1.mean(0) # 对第0维的元素求平均"
   ]
  },
  {
   "cell_type": "code",
   "execution_count": 17,
   "id": "3b6cf6a9",
   "metadata": {},
   "outputs": [
    {
     "data": {
      "text/plain": [
       "tensor(0.6731)"
      ]
     },
     "execution_count": 17,
     "metadata": {},
     "output_type": "execute_result"
    }
   ],
   "source": [
    "torch.mean(t1, [0,1]) # 对第0、1维元素求平均"
   ]
  },
  {
   "cell_type": "markdown",
   "id": "7f780710",
   "metadata": {},
   "source": [
    "# Pytorch四则运算"
   ]
  },
  {
   "cell_type": "code",
   "execution_count": 18,
   "id": "995cfd8e",
   "metadata": {},
   "outputs": [],
   "source": [
    "t1 = torch.rand(2, 3)\n",
    "t2 = torch.rand(2, 3)"
   ]
  },
  {
   "cell_type": "code",
   "execution_count": 19,
   "id": "5c871ed7",
   "metadata": {},
   "outputs": [
    {
     "data": {
      "text/plain": [
       "tensor([[0.9177, 1.5102, 0.8777],\n",
       "        [1.3057, 0.1986, 0.9767]])"
      ]
     },
     "execution_count": 19,
     "metadata": {},
     "output_type": "execute_result"
    }
   ],
   "source": [
    "t1.add(t2) # 四则运算，不改变参与运算的张量的值"
   ]
  },
  {
   "cell_type": "code",
   "execution_count": 20,
   "id": "eb649ffc",
   "metadata": {},
   "outputs": [
    {
     "data": {
      "text/plain": [
       "tensor([[0.9177, 1.5102, 0.8777],\n",
       "        [1.3057, 0.1986, 0.9767]])"
      ]
     },
     "execution_count": 20,
     "metadata": {},
     "output_type": "execute_result"
    }
   ],
   "source": [
    "t1+t2"
   ]
  },
  {
   "cell_type": "code",
   "execution_count": 21,
   "id": "6e15d92f",
   "metadata": {},
   "outputs": [
    {
     "data": {
      "text/plain": [
       "tensor([[ 0.4833,  0.2429, -0.4988],\n",
       "        [-0.0795, -0.1621,  0.9336]])"
      ]
     },
     "execution_count": 21,
     "metadata": {},
     "output_type": "execute_result"
    }
   ],
   "source": [
    "t1.sub(t2)"
   ]
  },
  {
   "cell_type": "code",
   "execution_count": 22,
   "id": "a3f2199f",
   "metadata": {},
   "outputs": [
    {
     "data": {
      "text/plain": [
       "tensor([[ 0.4833,  0.2429, -0.4988],\n",
       "        [-0.0795, -0.1621,  0.9336]])"
      ]
     },
     "execution_count": 22,
     "metadata": {},
     "output_type": "execute_result"
    }
   ],
   "source": [
    "t1-t2"
   ]
  },
  {
   "cell_type": "code",
   "execution_count": 23,
   "id": "139e168a",
   "metadata": {},
   "outputs": [
    {
     "data": {
      "text/plain": [
       "tensor([[0.1522, 0.5554, 0.1304],\n",
       "        [0.4247, 0.0033, 0.0206]])"
      ]
     },
     "execution_count": 23,
     "metadata": {},
     "output_type": "execute_result"
    }
   ],
   "source": [
    "t1.mul(t2)"
   ]
  },
  {
   "cell_type": "code",
   "execution_count": 24,
   "id": "7b06bc5f",
   "metadata": {},
   "outputs": [
    {
     "data": {
      "text/plain": [
       "tensor([[0.1522, 0.5554, 0.1304],\n",
       "        [0.4247, 0.0033, 0.0206]])"
      ]
     },
     "execution_count": 24,
     "metadata": {},
     "output_type": "execute_result"
    }
   ],
   "source": [
    "t1*t2"
   ]
  },
  {
   "cell_type": "code",
   "execution_count": 25,
   "id": "143df5ab",
   "metadata": {},
   "outputs": [
    {
     "data": {
      "text/plain": [
       "tensor([[ 3.2249,  1.3834,  0.2752],\n",
       "        [ 0.8852,  0.1013, 44.3768]])"
      ]
     },
     "execution_count": 25,
     "metadata": {},
     "output_type": "execute_result"
    }
   ],
   "source": [
    "t1.div(t2)"
   ]
  },
  {
   "cell_type": "code",
   "execution_count": 26,
   "id": "acf4ffd6",
   "metadata": {},
   "outputs": [
    {
     "data": {
      "text/plain": [
       "tensor([[ 3.2249,  1.3834,  0.2752],\n",
       "        [ 0.8852,  0.1013, 44.3768]])"
      ]
     },
     "execution_count": 26,
     "metadata": {},
     "output_type": "execute_result"
    }
   ],
   "source": [
    "t1/t2"
   ]
  },
  {
   "cell_type": "code",
   "execution_count": 27,
   "id": "e5accefc",
   "metadata": {},
   "outputs": [
    {
     "data": {
      "text/plain": [
       "tensor([[0.9177, 1.5102, 0.8777],\n",
       "        [1.3057, 0.1986, 0.9767]])"
      ]
     },
     "execution_count": 27,
     "metadata": {},
     "output_type": "execute_result"
    }
   ],
   "source": [
    "t1.add_(t2) # 四则运算，改变参与运算张量的值"
   ]
  },
  {
   "cell_type": "markdown",
   "id": "f5b483a8",
   "metadata": {},
   "source": [
    "# Pytorch找极值"
   ]
  },
  {
   "cell_type": "code",
   "execution_count": 28,
   "id": "2a9bb777",
   "metadata": {},
   "outputs": [
    {
     "data": {
      "text/plain": [
       "tensor([[-1.2409,  0.2499,  0.7204, -0.4018],\n",
       "        [ 1.6818, -0.1766,  1.2821, -0.4112],\n",
       "        [ 0.4681,  0.2892, -0.1123,  0.8871]])"
      ]
     },
     "execution_count": 28,
     "metadata": {},
     "output_type": "execute_result"
    }
   ],
   "source": [
    "t = torch.randn(3,4) # 建立一个3×4的张量\n",
    "t"
   ]
  },
  {
   "cell_type": "code",
   "execution_count": 29,
   "id": "b8c52306",
   "metadata": {},
   "outputs": [
    {
     "data": {
      "text/plain": [
       "tensor([1, 2, 1, 2])"
      ]
     },
     "execution_count": 29,
     "metadata": {},
     "output_type": "execute_result"
    }
   ],
   "source": [
    "torch.argmax(t, 0) # 函数调用，返回的是沿着第0个维度，极大值所在位置"
   ]
  },
  {
   "cell_type": "code",
   "execution_count": 30,
   "id": "f1489e20",
   "metadata": {},
   "outputs": [
    {
     "data": {
      "text/plain": [
       "tensor([0, 3, 2])"
      ]
     },
     "execution_count": 30,
     "metadata": {},
     "output_type": "execute_result"
    }
   ],
   "source": [
    "t.argmin(1) # 内置方法调用，返回的是沿着第1个维度，极小值所在的位置"
   ]
  },
  {
   "cell_type": "code",
   "execution_count": 31,
   "id": "d3f1aa94",
   "metadata": {},
   "outputs": [
    {
     "data": {
      "text/plain": [
       "torch.return_types.max(\n",
       "values=tensor([0.7204, 1.6818, 0.8871]),\n",
       "indices=tensor([2, 0, 3]))"
      ]
     },
     "execution_count": 31,
     "metadata": {},
     "output_type": "execute_result"
    }
   ],
   "source": [
    "torch.max(t, -1) # 函数调用，返回的是沿着最后一个维度，包含极大值和极大值所在位置的元组"
   ]
  },
  {
   "cell_type": "code",
   "execution_count": 32,
   "id": "7d4d0705",
   "metadata": {},
   "outputs": [
    {
     "data": {
      "text/plain": [
       "torch.return_types.min(\n",
       "values=tensor([-1.2409, -0.1766, -0.1123, -0.4112]),\n",
       "indices=tensor([0, 1, 2, 1]))"
      ]
     },
     "execution_count": 32,
     "metadata": {},
     "output_type": "execute_result"
    }
   ],
   "source": [
    "t.min(0) # 内置方法调用，返回的是沿着第0个维度，包含极小值和极小值所在位置的元组"
   ]
  },
  {
   "cell_type": "code",
   "execution_count": 33,
   "id": "2f5b0620",
   "metadata": {},
   "outputs": [
    {
     "data": {
      "text/plain": [
       "torch.return_types.sort(\n",
       "values=tensor([[-1.2409, -0.4018,  0.2499,  0.7204],\n",
       "        [-0.4112, -0.1766,  1.2821,  1.6818],\n",
       "        [-0.1123,  0.2892,  0.4681,  0.8871]]),\n",
       "indices=tensor([[0, 3, 1, 2],\n",
       "        [3, 1, 2, 0],\n",
       "        [2, 1, 0, 3]]))"
      ]
     },
     "execution_count": 33,
     "metadata": {},
     "output_type": "execute_result"
    }
   ],
   "source": [
    "t.sort(-1) # 沿着最后一个维度排序，返回排序后的张量和张量元素在该维度的原始位置"
   ]
  },
  {
   "cell_type": "markdown",
   "id": "a8f4dda0",
   "metadata": {},
   "source": [
    "# Pytorch生成矩阵"
   ]
  },
  {
   "cell_type": "code",
   "execution_count": 34,
   "id": "4cf6ed57",
   "metadata": {},
   "outputs": [
    {
     "data": {
      "text/plain": [
       "tensor([[0.3254, 0.3043, 0.2033],\n",
       "        [0.9478, 0.5332, 0.6365],\n",
       "        [0.6496, 0.0318, 0.6290]])"
      ]
     },
     "execution_count": 34,
     "metadata": {},
     "output_type": "execute_result"
    }
   ],
   "source": [
    "torch.rand(3,3) # 生成3×3的矩阵，矩阵元素服从[0, 1)上的均匀分布"
   ]
  },
  {
   "cell_type": "code",
   "execution_count": 35,
   "id": "752f9e5a",
   "metadata": {},
   "outputs": [
    {
     "data": {
      "text/plain": [
       "tensor([[[ 0.4802,  0.4705,  0.8875,  0.9517],\n",
       "         [ 0.3005,  0.8741,  0.6716, -1.6585],\n",
       "         [ 0.7615,  2.0114, -0.0398,  0.8948]],\n",
       "\n",
       "        [[-0.2796, -2.0190, -0.4466, -0.3262],\n",
       "         [-0.0858,  0.4345, -1.4627,  1.0755],\n",
       "         [-0.7847, -0.2864, -0.1628, -0.1309]]])"
      ]
     },
     "execution_count": 35,
     "metadata": {},
     "output_type": "execute_result"
    }
   ],
   "source": [
    "torch.randn(2,3,4) # 生成2×3×4的张量，张量元素服从标准正态分布"
   ]
  },
  {
   "cell_type": "code",
   "execution_count": 36,
   "id": "b589765e",
   "metadata": {},
   "outputs": [
    {
     "data": {
      "text/plain": [
       "tensor([[[0., 0.],\n",
       "         [0., 0.]],\n",
       "\n",
       "        [[0., 0.],\n",
       "         [0., 0.]]])"
      ]
     },
     "execution_count": 36,
     "metadata": {},
     "output_type": "execute_result"
    }
   ],
   "source": [
    "torch.zeros(2,2,2) # 生成 2×2×2的张量，张量元素全为0"
   ]
  },
  {
   "cell_type": "code",
   "execution_count": 37,
   "id": "bd4c1ba3",
   "metadata": {},
   "outputs": [
    {
     "data": {
      "text/plain": [
       "tensor([[[1., 1., 1.],\n",
       "         [1., 1., 1.]]])"
      ]
     },
     "execution_count": 37,
     "metadata": {},
     "output_type": "execute_result"
    }
   ],
   "source": [
    "torch.ones(1,2,3) # 生成1×2×3的张量，张量元素全为1"
   ]
  },
  {
   "cell_type": "code",
   "execution_count": 38,
   "id": "892e67ad",
   "metadata": {},
   "outputs": [
    {
     "data": {
      "text/plain": [
       "tensor([[1., 0., 0.],\n",
       "        [0., 1., 0.],\n",
       "        [0., 0., 1.]])"
      ]
     },
     "execution_count": 38,
     "metadata": {},
     "output_type": "execute_result"
    }
   ],
   "source": [
    "torch.eye(3) # 生成3×3的单位矩阵"
   ]
  },
  {
   "cell_type": "code",
   "execution_count": 39,
   "id": "994998fd",
   "metadata": {},
   "outputs": [
    {
     "data": {
      "text/plain": [
       "tensor([[1, 1, 2],\n",
       "        [8, 3, 0],\n",
       "        [1, 7, 7]])"
      ]
     },
     "execution_count": 39,
     "metadata": {},
     "output_type": "execute_result"
    }
   ],
   "source": [
    "torch.randint(0, 10, (3,3)) # 生成0（包含）到10（不含）之间均匀分布整数的3×3矩阵"
   ]
  },
  {
   "cell_type": "code",
   "execution_count": 40,
   "id": "8e861946",
   "metadata": {},
   "outputs": [
    {
     "data": {
      "text/plain": [
       "tensor([[-2.0507, -0.3820,  0.5350],\n",
       "        [ 0.2742,  0.9491, -1.1857],\n",
       "        [ 0.3739, -0.6750,  1.7353]])"
      ]
     },
     "execution_count": 40,
     "metadata": {},
     "output_type": "execute_result"
    }
   ],
   "source": [
    "t = torch.randn(3,3) # 生成一个随机正态分布的张量t\n",
    "t"
   ]
  },
  {
   "cell_type": "code",
   "execution_count": 41,
   "id": "35175010",
   "metadata": {},
   "outputs": [
    {
     "data": {
      "text/plain": [
       "tensor([[0., 0., 0.],\n",
       "        [0., 0., 0.],\n",
       "        [0., 0., 0.]])"
      ]
     },
     "execution_count": 41,
     "metadata": {},
     "output_type": "execute_result"
    }
   ],
   "source": [
    "torch.zeros_like(t) # 生成一个元素全为0的张量，形状和给定张量t相同"
   ]
  },
  {
   "cell_type": "code",
   "execution_count": 42,
   "id": "ea440767",
   "metadata": {},
   "outputs": [
    {
     "data": {
      "text/plain": [
       "tensor([[1., 1., 1.],\n",
       "        [1., 1., 1.],\n",
       "        [1., 1., 1.]])"
      ]
     },
     "execution_count": 42,
     "metadata": {},
     "output_type": "execute_result"
    }
   ],
   "source": [
    "torch.ones_like(t) # 生成一个元素全为1的张量，形状和给定张量t相同"
   ]
  },
  {
   "cell_type": "code",
   "execution_count": 43,
   "id": "d616336c",
   "metadata": {},
   "outputs": [
    {
     "data": {
      "text/plain": [
       "tensor([[0.8036, 0.5105, 0.1551],\n",
       "        [0.2936, 0.3234, 0.4115],\n",
       "        [0.1518, 0.6082, 0.2032]])"
      ]
     },
     "execution_count": 43,
     "metadata": {},
     "output_type": "execute_result"
    }
   ],
   "source": [
    "torch.rand_like(t) # 生成一个元素服从[0, 1)上的均匀分布的张量，形状和给定张量t相同"
   ]
  },
  {
   "cell_type": "code",
   "execution_count": 44,
   "id": "de041311",
   "metadata": {},
   "outputs": [
    {
     "data": {
      "text/plain": [
       "tensor([[-1.2938,  1.5869,  1.1519],\n",
       "        [ 2.4700, -0.7452,  0.9494],\n",
       "        [-0.5171, -1.9639,  0.3839]])"
      ]
     },
     "execution_count": 44,
     "metadata": {},
     "output_type": "execute_result"
    }
   ],
   "source": [
    "torch.randn_like(t) # 生成一个元素服从标准正态分布的张量，形状和给定张量t相同"
   ]
  },
  {
   "cell_type": "code",
   "execution_count": 45,
   "id": "2484d0e0",
   "metadata": {},
   "outputs": [
    {
     "data": {
      "text/plain": [
       "torch.float32"
      ]
     },
     "execution_count": 45,
     "metadata": {},
     "output_type": "execute_result"
    }
   ],
   "source": [
    "t.new_tensor([1,2,3]).dtype # 根据Python列表生成张量，注意这里输出的是单精度浮点数"
   ]
  },
  {
   "cell_type": "code",
   "execution_count": 46,
   "id": "34d0b852",
   "metadata": {},
   "outputs": [
    {
     "data": {
      "text/plain": [
       "tensor([[0., 0., 0.],\n",
       "        [0., 0., 0.],\n",
       "        [0., 0., 0.]])"
      ]
     },
     "execution_count": 46,
     "metadata": {},
     "output_type": "execute_result"
    }
   ],
   "source": [
    "t.new_zeros(3, 3) # 生成相同类型且元素全为0的张量"
   ]
  },
  {
   "cell_type": "code",
   "execution_count": 47,
   "id": "a84a77ed",
   "metadata": {},
   "outputs": [
    {
     "data": {
      "text/plain": [
       "tensor([[1., 1., 1.],\n",
       "        [1., 1., 1.],\n",
       "        [1., 1., 1.]])"
      ]
     },
     "execution_count": 47,
     "metadata": {},
     "output_type": "execute_result"
    }
   ],
   "source": [
    "t.new_ones(3,3) # 生成相同类型且元素全为1的张量"
   ]
  },
  {
   "cell_type": "markdown",
   "id": "16155c21",
   "metadata": {},
   "source": [
    "# PyTorch在不同设备上的张量"
   ]
  },
  {
   "cell_type": "code",
   "execution_count": 48,
   "id": "288c867a",
   "metadata": {},
   "outputs": [
    {
     "data": {
      "text/plain": [
       "tensor([[ 0.2595, -0.1001, -2.1963],\n",
       "        [ 0.0815, -0.0470,  0.6868],\n",
       "        [-0.5317, -2.3013,  0.6649]])"
      ]
     },
     "execution_count": 48,
     "metadata": {},
     "output_type": "execute_result"
    }
   ],
   "source": [
    "torch.randn(3, 3, device=\"cpu\") # 获取存储在CPU上的一个张量"
   ]
  },
  {
   "cell_type": "code",
   "execution_count": 49,
   "id": "be626c77",
   "metadata": {},
   "outputs": [
    {
     "data": {
      "text/plain": [
       "tensor([[-0.0841, -1.2441,  0.9748],\n",
       "        [-0.0713,  0.3282, -1.1074],\n",
       "        [-1.7640,  0.6918, -0.3489]], device='cuda:0')"
      ]
     },
     "execution_count": 49,
     "metadata": {},
     "output_type": "execute_result"
    }
   ],
   "source": [
    "torch.randn(3, 3, device=\"cuda:0\") # 获取存储在0号GPU上的一个张量"
   ]
  },
  {
   "cell_type": "code",
   "execution_count": 51,
   "id": "6ee22ccc",
   "metadata": {},
   "outputs": [
    {
     "data": {
      "text/plain": [
       "device(type='cpu')"
      ]
     },
     "execution_count": 51,
     "metadata": {},
     "output_type": "execute_result"
    }
   ],
   "source": [
    "torch.randn(3, 3, device=\"cuda:0\").cpu().device # 张量从1号GPU转移到CPU"
   ]
  },
  {
   "cell_type": "markdown",
   "id": "58240770",
   "metadata": {},
   "source": [
    "# 获取张量的属性"
   ]
  },
  {
   "cell_type": "code",
   "execution_count": 52,
   "id": "3c783e06",
   "metadata": {},
   "outputs": [],
   "source": [
    "t = torch.randn(3,4,5) # 产生一个3×4×5的张量"
   ]
  },
  {
   "cell_type": "code",
   "execution_count": 53,
   "id": "f7315ce6",
   "metadata": {},
   "outputs": [
    {
     "data": {
      "text/plain": [
       "3"
      ]
     },
     "execution_count": 53,
     "metadata": {},
     "output_type": "execute_result"
    }
   ],
   "source": [
    "t.ndimension() # 获取维度的数目"
   ]
  },
  {
   "cell_type": "code",
   "execution_count": 54,
   "id": "f10b96e6",
   "metadata": {},
   "outputs": [
    {
     "data": {
      "text/plain": [
       "60"
      ]
     },
     "execution_count": 54,
     "metadata": {},
     "output_type": "execute_result"
    }
   ],
   "source": [
    "t.nelement() # 获取该张量的总元素数目"
   ]
  },
  {
   "cell_type": "code",
   "execution_count": 55,
   "id": "c8be91c9",
   "metadata": {},
   "outputs": [
    {
     "data": {
      "text/plain": [
       "torch.Size([3, 4, 5])"
      ]
     },
     "execution_count": 55,
     "metadata": {},
     "output_type": "execute_result"
    }
   ],
   "source": [
    "t.size() # 获取该张量每个维度的大小，调用方法"
   ]
  },
  {
   "cell_type": "code",
   "execution_count": 56,
   "id": "042992e7",
   "metadata": {},
   "outputs": [
    {
     "data": {
      "text/plain": [
       "torch.Size([3, 4, 5])"
      ]
     },
     "execution_count": 56,
     "metadata": {},
     "output_type": "execute_result"
    }
   ],
   "source": [
    "t.shape # 获取该张量每个维度的大小，访问属性"
   ]
  },
  {
   "cell_type": "code",
   "execution_count": 57,
   "id": "06ca8046",
   "metadata": {},
   "outputs": [
    {
     "data": {
      "text/plain": [
       "3"
      ]
     },
     "execution_count": 57,
     "metadata": {},
     "output_type": "execute_result"
    }
   ],
   "source": [
    "t.size(0) # 获取该张量维度0的大小，调用方法"
   ]
  },
  {
   "cell_type": "code",
   "execution_count": 59,
   "id": "b23cec37",
   "metadata": {},
   "outputs": [
    {
     "data": {
      "text/plain": [
       "tensor([-0.3630, -0.9360, -1.3932, -0.0465, -0.3566, -1.7818, -0.5255, -0.0464,\n",
       "         0.6985,  0.3168, -0.6262, -0.4928])"
      ]
     },
     "execution_count": 59,
     "metadata": {},
     "output_type": "execute_result"
    }
   ],
   "source": [
    "t = torch.randn(12) # 产生大小为12的向量\n",
    "t"
   ]
  },
  {
   "cell_type": "code",
   "execution_count": 60,
   "id": "691823c1",
   "metadata": {},
   "outputs": [
    {
     "data": {
      "text/plain": [
       "tensor([[-0.3630, -0.9360, -1.3932, -0.0465],\n",
       "        [-0.3566, -1.7818, -0.5255, -0.0464],\n",
       "        [ 0.6985,  0.3168, -0.6262, -0.4928]])"
      ]
     },
     "execution_count": 60,
     "metadata": {},
     "output_type": "execute_result"
    }
   ],
   "source": [
    "t.view(3, 4) # 向量改变形状为3×4的矩阵"
   ]
  },
  {
   "cell_type": "code",
   "execution_count": 61,
   "id": "0b084d62",
   "metadata": {},
   "outputs": [
    {
     "data": {
      "text/plain": [
       "tensor([[-0.3630, -0.9360, -1.3932],\n",
       "        [-0.0465, -0.3566, -1.7818],\n",
       "        [-0.5255, -0.0464,  0.6985],\n",
       "        [ 0.3168, -0.6262, -0.4928]])"
      ]
     },
     "execution_count": 61,
     "metadata": {},
     "output_type": "execute_result"
    }
   ],
   "source": [
    "t.view(4, 3) # 向量改变形状为4×3的矩阵"
   ]
  },
  {
   "cell_type": "code",
   "execution_count": 62,
   "id": "13029a09",
   "metadata": {},
   "outputs": [
    {
     "data": {
      "text/plain": [
       "tensor([[-0.3630, -0.9360, -1.3932, -0.0465],\n",
       "        [-0.3566, -1.7818, -0.5255, -0.0464],\n",
       "        [ 0.6985,  0.3168, -0.6262, -0.4928]])"
      ]
     },
     "execution_count": 62,
     "metadata": {},
     "output_type": "execute_result"
    }
   ],
   "source": [
    "t.view(-1, 4) # 第一个维度为-1，PyTorch会自动计算该维度的具体值"
   ]
  },
  {
   "cell_type": "code",
   "execution_count": 64,
   "id": "b077908f",
   "metadata": {},
   "outputs": [
    {
     "data": {
      "text/plain": [
       "tensor([ 1.0000, -0.9360, -1.3932, -0.0465, -0.3566, -1.7818, -0.5255, -0.0464,\n",
       "         0.6985,  0.3168, -0.6262, -0.4928])"
      ]
     },
     "execution_count": 64,
     "metadata": {},
     "output_type": "execute_result"
    }
   ],
   "source": [
    "t.view(4, 3)[0, 0] = 1.0"
   ]
  },
  {
   "cell_type": "code",
   "execution_count": 65,
   "id": "b10d0219",
   "metadata": {},
   "outputs": [
    {
     "data": {
      "text/plain": [
       "2297009985152"
      ]
     },
     "execution_count": 65,
     "metadata": {},
     "output_type": "execute_result"
    }
   ],
   "source": [
    "t.data_ptr() # 获取张量的数据指针"
   ]
  },
  {
   "cell_type": "code",
   "execution_count": 66,
   "id": "a8c0dc29",
   "metadata": {},
   "outputs": [
    {
     "data": {
      "text/plain": [
       "2297009985152"
      ]
     },
     "execution_count": 66,
     "metadata": {},
     "output_type": "execute_result"
    }
   ],
   "source": [
    "t.view(3,4).data_ptr() # 数据指针不改变"
   ]
  },
  {
   "cell_type": "code",
   "execution_count": 67,
   "id": "88061fed",
   "metadata": {},
   "outputs": [
    {
     "data": {
      "text/plain": [
       "2297009985152"
      ]
     },
     "execution_count": 67,
     "metadata": {},
     "output_type": "execute_result"
    }
   ],
   "source": [
    "t.view(4,3).data_ptr() # 同上，不改变"
   ]
  },
  {
   "cell_type": "code",
   "execution_count": 68,
   "id": "57b62aba",
   "metadata": {},
   "outputs": [
    {
     "data": {
      "text/plain": [
       "2297009985152"
      ]
     },
     "execution_count": 68,
     "metadata": {},
     "output_type": "execute_result"
    }
   ],
   "source": [
    "t.view(3,4).contiguous().data_ptr() # 同上，不改变"
   ]
  },
  {
   "cell_type": "code",
   "execution_count": 69,
   "id": "722ed3c1",
   "metadata": {},
   "outputs": [
    {
     "data": {
      "text/plain": [
       "2297009985152"
      ]
     },
     "execution_count": 69,
     "metadata": {},
     "output_type": "execute_result"
    }
   ],
   "source": [
    "t.view(4,3).contiguous().data_ptr() # 同上，不改变"
   ]
  },
  {
   "cell_type": "code",
   "execution_count": 70,
   "id": "9cd32878",
   "metadata": {},
   "outputs": [
    {
     "data": {
      "text/plain": [
       "2297009985152"
      ]
     },
     "execution_count": 70,
     "metadata": {},
     "output_type": "execute_result"
    }
   ],
   "source": [
    "t.view(3,4).transpose(0,1).data_ptr() # transpose方法交换两个维度的步长"
   ]
  },
  {
   "cell_type": "code",
   "execution_count": 71,
   "id": "513378fd",
   "metadata": {},
   "outputs": [
    {
     "data": {
      "text/plain": [
       "2297009980672"
      ]
     },
     "execution_count": 71,
     "metadata": {},
     "output_type": "execute_result"
    }
   ],
   "source": [
    "t.view(3,4).transpose(0,1).contiguous().data_ptr() # 步长和维度不兼容，重新生成张量"
   ]
  },
  {
   "cell_type": "markdown",
   "id": "3cdbbef8",
   "metadata": {},
   "source": [
    "# 矩阵乘法"
   ]
  },
  {
   "cell_type": "code",
   "execution_count": 72,
   "id": "c10ecc16",
   "metadata": {},
   "outputs": [],
   "source": [
    "a = torch.randn(3,4) # 建立一个3×4的张量\n",
    "b = torch.randn(4,3) # 建立一个4×3的张量"
   ]
  },
  {
   "cell_type": "code",
   "execution_count": 73,
   "id": "360b7f43",
   "metadata": {},
   "outputs": [
    {
     "data": {
      "text/plain": [
       "tensor([[ 2.3687, -2.9115,  5.4869],\n",
       "        [ 0.3083, -0.2303, -1.2176],\n",
       "        [ 0.7740,  2.4785,  2.3907]])"
      ]
     },
     "execution_count": 73,
     "metadata": {},
     "output_type": "execute_result"
    }
   ],
   "source": [
    "torch.mm(a,b) # 矩阵乘法，调用函数，返回3×3的矩阵乘积"
   ]
  },
  {
   "cell_type": "code",
   "execution_count": 74,
   "id": "87cf7366",
   "metadata": {},
   "outputs": [
    {
     "data": {
      "text/plain": [
       "tensor([[ 2.3687, -2.9115,  5.4869],\n",
       "        [ 0.3083, -0.2303, -1.2176],\n",
       "        [ 0.7740,  2.4785,  2.3907]])"
      ]
     },
     "execution_count": 74,
     "metadata": {},
     "output_type": "execute_result"
    }
   ],
   "source": [
    "a.mm(b) # 矩阵乘法，内置方法"
   ]
  },
  {
   "cell_type": "code",
   "execution_count": 75,
   "id": "2270147a",
   "metadata": {},
   "outputs": [
    {
     "data": {
      "text/plain": [
       "tensor([[ 2.3687, -2.9115,  5.4869],\n",
       "        [ 0.3083, -0.2303, -1.2176],\n",
       "        [ 0.7740,  2.4785,  2.3907]])"
      ]
     },
     "execution_count": 75,
     "metadata": {},
     "output_type": "execute_result"
    }
   ],
   "source": [
    "a@b # 矩阵乘法，@运算符号"
   ]
  },
  {
   "cell_type": "code",
   "execution_count": 77,
   "id": "b29a2695",
   "metadata": {},
   "outputs": [],
   "source": [
    "a = torch.randn(2,3,4) # 建立一个大小为2×3×4的张量\n",
    "b = torch.randn(2,4,3) # 建立一个张量，大小为2×4×3"
   ]
  },
  {
   "cell_type": "code",
   "execution_count": 78,
   "id": "123f1bb2",
   "metadata": {},
   "outputs": [
    {
     "data": {
      "text/plain": [
       "tensor([[[ 1.4739,  2.9392, -1.7326],\n",
       "         [-1.1097, -1.3699,  4.1391],\n",
       "         [ 0.7955,  0.3833, -1.2821]],\n",
       "\n",
       "        [[ 0.7600, -0.2136, -2.3286],\n",
       "         [ 2.8435, -1.5178,  2.6848],\n",
       "         [ 1.9172,  0.9560, -0.0873]]])"
      ]
     },
     "execution_count": 78,
     "metadata": {},
     "output_type": "execute_result"
    }
   ],
   "source": [
    "torch.bmm(a,b) # （迷你）批次矩阵乘法，返回结果为2×3×3，函数形式"
   ]
  },
  {
   "cell_type": "code",
   "execution_count": 79,
   "id": "f3fa33d0",
   "metadata": {},
   "outputs": [
    {
     "data": {
      "text/plain": [
       "tensor([[[ 1.4739,  2.9392, -1.7326],\n",
       "         [-1.1097, -1.3699,  4.1391],\n",
       "         [ 0.7955,  0.3833, -1.2821]],\n",
       "\n",
       "        [[ 0.7600, -0.2136, -2.3286],\n",
       "         [ 2.8435, -1.5178,  2.6848],\n",
       "         [ 1.9172,  0.9560, -0.0873]]])"
      ]
     },
     "execution_count": 79,
     "metadata": {},
     "output_type": "execute_result"
    }
   ],
   "source": [
    "a.bmm(b) # 同上乘法，内置方法形式"
   ]
  },
  {
   "cell_type": "code",
   "execution_count": 80,
   "id": "4f8dfe5f",
   "metadata": {},
   "outputs": [
    {
     "data": {
      "text/plain": [
       "tensor([[[ 1.4739,  2.9392, -1.7326],\n",
       "         [-1.1097, -1.3699,  4.1391],\n",
       "         [ 0.7955,  0.3833, -1.2821]],\n",
       "\n",
       "        [[ 0.7600, -0.2136, -2.3286],\n",
       "         [ 2.8435, -1.5178,  2.6848],\n",
       "         [ 1.9172,  0.9560, -0.0873]]])"
      ]
     },
     "execution_count": 80,
     "metadata": {},
     "output_type": "execute_result"
    }
   ],
   "source": [
    "a@b # 运算符号形式，根据输入张量的形状决定调用批次矩阵乘法"
   ]
  },
  {
   "cell_type": "code",
   "execution_count": 81,
   "id": "82bf576d",
   "metadata": {},
   "outputs": [
    {
     "data": {
      "text/plain": [
       "tensor([[[-5.8431, -1.0391, -4.1262],\n",
       "         [-1.8185, -1.9655, -1.5293],\n",
       "         [ 1.0536,  2.7590,  0.8201]],\n",
       "\n",
       "        [[ 1.3796,  1.6736, -2.9382],\n",
       "         [ 0.0380, -1.8394, -1.5867],\n",
       "         [ 0.0423, -0.1402, -1.1595]]])"
      ]
     },
     "execution_count": 81,
     "metadata": {},
     "output_type": "execute_result"
    }
   ],
   "source": [
    "a = torch.randn(2,3,4) # 随机产生张量\n",
    "b = torch.randn(2,4,3)\n",
    "a.bmm(b) # 批次矩阵乘法的结果\n",
    "torch.einsum(\"bnk,bkl->bnl\", a, b) # einsum函数的结果，和前面的结果一致"
   ]
  },
  {
   "cell_type": "markdown",
   "id": "f16e7ad2",
   "metadata": {},
   "source": [
    "# 矩阵的分割和拼接"
   ]
  },
  {
   "cell_type": "code",
   "execution_count": 82,
   "id": "b00e888e",
   "metadata": {},
   "outputs": [
    {
     "data": {
      "text/plain": [
       "(tensor([[ 0.4921,  1.4065],\n",
       "         [-1.1661, -0.8217],\n",
       "         [-0.5071, -1.2097]]),\n",
       " tensor([[ 1.5540,  1.7092],\n",
       "         [-2.0540,  0.3542],\n",
       "         [ 1.8504,  1.0398]]),\n",
       " tensor([[-1.2422,  0.7291],\n",
       "         [-1.6102, -0.7184],\n",
       "         [-0.0781,  0.9372]]))"
      ]
     },
     "execution_count": 82,
     "metadata": {},
     "output_type": "execute_result"
    }
   ],
   "source": [
    "t1 = torch.randn(3,4) # 随机产生四个张量\n",
    "t2 = torch.randn(3,4)\n",
    "t3 = torch.randn(3,4)\n",
    "t4 = torch.randn(3,2) # 沿着最后一个维度做堆叠，返回大小为3×4×3的张量\n",
    "torch.stack([t1,t2,t3], -1).shape\n",
    "torch.cat([t1,t2,t3,t4], -1).shape # 沿着最后一个维度做拼接，返回大小为3×14的张量\n",
    "t = torch.randn(3, 6) # 随机产生一个3×6的张量\n",
    "t.split([1,2,3], -1) # 把张量沿着最后一个维度分割为三个张量\n",
    "t.split(3, -1) # 把张量沿着最后一个维度分割，分割大小为3，输出的张量大小均为3×3\n",
    "t.chunk(3, -1) # 把张量沿着最后一个维度分割为三个张量，大小均为3×2"
   ]
  },
  {
   "cell_type": "code",
   "execution_count": 83,
   "id": "1433b89c",
   "metadata": {},
   "outputs": [
    {
     "data": {
      "text/plain": [
       "torch.Size([3, 4])"
      ]
     },
     "execution_count": 83,
     "metadata": {},
     "output_type": "execute_result"
    }
   ],
   "source": [
    "t = torch.rand(3, 4) # 随机生成一个张量\n",
    "t.shape"
   ]
  },
  {
   "cell_type": "code",
   "execution_count": 84,
   "id": "fe9eb2ba",
   "metadata": {},
   "outputs": [
    {
     "data": {
      "text/plain": [
       "torch.Size([3, 4, 1])"
      ]
     },
     "execution_count": 84,
     "metadata": {},
     "output_type": "execute_result"
    }
   ],
   "source": [
    "t.unsqueeze(-1).shape # 扩增最后一个维度"
   ]
  },
  {
   "cell_type": "code",
   "execution_count": 85,
   "id": "f5cb7359",
   "metadata": {},
   "outputs": [
    {
     "data": {
      "text/plain": [
       "torch.Size([3, 4, 1, 1])"
      ]
     },
     "execution_count": 85,
     "metadata": {},
     "output_type": "execute_result"
    }
   ],
   "source": [
    "t.unsqueeze(-1).unsqueeze(-1).shape # 继续扩增最后一个维度"
   ]
  },
  {
   "cell_type": "code",
   "execution_count": 86,
   "id": "c9fc4f0c",
   "metadata": {},
   "outputs": [
    {
     "data": {
      "text/plain": [
       "torch.Size([1, 3, 4, 1])"
      ]
     },
     "execution_count": 86,
     "metadata": {},
     "output_type": "execute_result"
    }
   ],
   "source": [
    "t = torch.rand(1,3,4,1) # 随机生成一个张量，有两个维度大小为1\n",
    "t.shape"
   ]
  },
  {
   "cell_type": "code",
   "execution_count": 87,
   "id": "3c974646",
   "metadata": {},
   "outputs": [
    {
     "data": {
      "text/plain": [
       "torch.Size([3, 4])"
      ]
     },
     "execution_count": 87,
     "metadata": {},
     "output_type": "execute_result"
    }
   ],
   "source": [
    "t.squeeze().shape # 压缩所有大小为1的维度"
   ]
  },
  {
   "cell_type": "markdown",
   "id": "e3ce4695",
   "metadata": {},
   "source": [
    "# PyTorch中的模块"
   ]
  },
  {
   "cell_type": "code",
   "execution_count": 91,
   "id": "ed681d8d",
   "metadata": {},
   "outputs": [],
   "source": [
    "import torch.nn as nn"
   ]
  },
  {
   "cell_type": "code",
   "execution_count": 92,
   "id": "de289c4f",
   "metadata": {},
   "outputs": [
    {
     "ename": "SyntaxError",
     "evalue": "invalid syntax (<ipython-input-92-1f99770d1500>, line 2)",
     "output_type": "error",
     "traceback": [
      "\u001b[1;36m  File \u001b[1;32m\"<ipython-input-92-1f99770d1500>\"\u001b[1;36m, line \u001b[1;32m2\u001b[0m\n\u001b[1;33m    def __init__(self, ...): # 定义类的初始化函数，...是用户的传入参数\u001b[0m\n\u001b[1;37m                         ^\u001b[0m\n\u001b[1;31mSyntaxError\u001b[0m\u001b[1;31m:\u001b[0m invalid syntax\n"
     ]
    }
   ],
   "source": [
    "\n",
    "class Model(nn.Module):\n",
    "    def __init__(self, ...): # 定义类的初始化函数，...是用户的传入参数\n",
    "        super(Model, self).__init__()\n",
    "        ... # 根据传入的参数来定义子模块\n",
    "    \n",
    "    def forward(self, ...): # 定义前向计算的输入参数，...一般是张量或者其他的参数\n",
    "        ret = ... # 根据传入的张量和子模块计算返回张量\n",
    "        return ret"
   ]
  },
  {
   "cell_type": "code",
   "execution_count": 93,
   "id": "d62212d5",
   "metadata": {},
   "outputs": [],
   "source": [
    "class LinearModel(nn.Module):\n",
    "    def __init__(self, ndim):\n",
    "        super(LinearModel, self).__init__()\n",
    "        self.ndim = ndim\n",
    "\n",
    "        self.weight = nn.Parameter(torch.randn(ndim, 1)) # 定义权重\n",
    "        self.bias = nn.Parameter(torch.randn(1)) # 定义偏置\n",
    "\n",
    "    def forward(self, x):\n",
    "        # 定义线性模型 y = Wx + b\n",
    "        return x.mm(self.weight) + self.bias"
   ]
  },
  {
   "cell_type": "markdown",
   "id": "a0876d8b",
   "metadata": {},
   "source": [
    "# 线性回归模型"
   ]
  },
  {
   "cell_type": "code",
   "execution_count": 94,
   "id": "0b5f385b",
   "metadata": {},
   "outputs": [
    {
     "data": {
      "text/plain": [
       "tensor([[-2.6777],\n",
       "        [ 0.7976],\n",
       "        [-2.5083],\n",
       "        [-0.0823]], grad_fn=<AddBackward0>)"
      ]
     },
     "execution_count": 94,
     "metadata": {},
     "output_type": "execute_result"
    }
   ],
   "source": [
    "lm = LinearModel(5) # 定义线性回归模型，特征数为5\n",
    "x = torch.randn(4, 5) # 定义随机输入，迷你批次大小为4\n",
    "lm(x) # 得到每个迷你批次的输出"
   ]
  },
  {
   "cell_type": "code",
   "execution_count": 95,
   "id": "4f53d142",
   "metadata": {},
   "outputs": [
    {
     "data": {
      "text/plain": [
       "tensor([[-2.0959,  0.1805,  0.7451,  0.3042,  0.4736],\n",
       "        [ 0.5046, -0.0352, -0.0502,  0.8034,  0.2216],\n",
       "        [-1.7134, -0.5659, -0.7996,  1.0295, -0.9309],\n",
       "        [-0.5578,  0.0725,  0.2961,  1.4139, -0.9004]])"
      ]
     },
     "execution_count": 95,
     "metadata": {},
     "output_type": "execute_result"
    }
   ],
   "source": [
    "x"
   ]
  },
  {
   "cell_type": "code",
   "execution_count": 96,
   "id": "0387c2f6",
   "metadata": {},
   "outputs": [
    {
     "data": {
      "text/plain": [
       "[Parameter containing:\n",
       " tensor([[-1.9609],\n",
       "         [ 0.4797],\n",
       "         [ 0.2874],\n",
       "         [ 0.6187],\n",
       "         [-0.2153]], device='cuda:0', dtype=torch.float16, requires_grad=True),\n",
       " Parameter containing:\n",
       " tensor([-0.4885], device='cuda:0', dtype=torch.float16, requires_grad=True)]"
      ]
     },
     "execution_count": 96,
     "metadata": {},
     "output_type": "execute_result"
    }
   ],
   "source": [
    "lm = LinearModel(5) # 定义线性模型\n",
    "x = torch.randn(4, 5) # 定义模型输入\n",
    "lm(x) # 根据模型获取输入对应的输出\n",
    "lm.named_parameters() # 获取模型参数（带名字）的生成器\n",
    "list(lm.named_parameters()) # 转换生成器为列表\n",
    "lm.parameters() # 获取模型参数（不带名字）的生成器\n",
    "list(lm.parameters()) # 转换生成器为列表\n",
    "lm.cuda() # 将模型参数移到GPU上\n",
    "list(lm.parameters()) # 显示模型参数，可以看到已经移到了GPU上（device='cuda:0'）\n",
    "lm.half() # 转换模型参数为半精度浮点数\n",
    "list(lm.parameters()) # 显示模型参数，可以看到已经转换为了半精度浮点数（dtype=torch.float16）"
   ]
  },
  {
   "cell_type": "markdown",
   "id": "1dba1a8b",
   "metadata": {},
   "source": [
    "# 梯度反向传播"
   ]
  },
  {
   "cell_type": "code",
   "execution_count": 98,
   "id": "b8a34fbd",
   "metadata": {},
   "outputs": [
    {
     "data": {
      "text/plain": [
       "tensor([[ 2.0617,  1.0214,  0.4219],\n",
       "        [-0.1225,  0.0185,  0.4327],\n",
       "        [ 0.7676,  0.0477, -3.1819]], requires_grad=True)"
      ]
     },
     "execution_count": 98,
     "metadata": {},
     "output_type": "execute_result"
    }
   ],
   "source": [
    "t1 = torch.randn(3, 3, requires_grad=True) # 定义一个3×3的张量\n",
    "t1"
   ]
  },
  {
   "cell_type": "code",
   "execution_count": 99,
   "id": "4cf96fcf",
   "metadata": {},
   "outputs": [],
   "source": [
    "t2 = t1.pow(2).sum() # 计算张量的所有分量平方和\n",
    "t2.backward() # 反向传播"
   ]
  },
  {
   "cell_type": "code",
   "execution_count": 100,
   "id": "61dff0c2",
   "metadata": {},
   "outputs": [
    {
     "data": {
      "text/plain": [
       "tensor([[0., 0., 0.],\n",
       "        [0., 0., 0.],\n",
       "        [0., 0., 0.]])"
      ]
     },
     "execution_count": 100,
     "metadata": {},
     "output_type": "execute_result"
    }
   ],
   "source": [
    "t1.grad # 梯度是张量原始分量的2倍\n",
    "t2 = t1.pow(2).sum() # 再次计算所有分量的平方和\n",
    "t2.backward() # 再次反向传播\n",
    "t1.grad # 梯度累积\n",
    "t1.grad.zero_() # 单个张量清零梯度的方法"
   ]
  },
  {
   "cell_type": "code",
   "execution_count": 103,
   "id": "296395b4",
   "metadata": {},
   "outputs": [
    {
     "data": {
      "text/plain": [
       "(tensor([[ 1.6051, -0.2905, -4.7186],\n",
       "         [ 2.0027,  1.0019, -1.2083],\n",
       "         [ 2.6031,  0.5484, -0.3146]]),)"
      ]
     },
     "execution_count": 103,
     "metadata": {},
     "output_type": "execute_result"
    }
   ],
   "source": [
    "t1 = torch.randn(3,3,requires_grad = True) #初始化t1张量\n",
    "t2 = t1.pow(2).sum()\n",
    "torch.autograd.grad( t2 , t1 ) # t2张量对t1张量求导"
   ]
  },
  {
   "cell_type": "code",
   "execution_count": null,
   "id": "19bbdad9",
   "metadata": {},
   "outputs": [],
   "source": []
  }
 ],
 "metadata": {
  "kernelspec": {
   "display_name": "Python 3",
   "language": "python",
   "name": "python3"
  },
  "language_info": {
   "codemirror_mode": {
    "name": "ipython",
    "version": 3
   },
   "file_extension": ".py",
   "mimetype": "text/x-python",
   "name": "python",
   "nbconvert_exporter": "python",
   "pygments_lexer": "ipython3",
   "version": "3.6.13"
  }
 },
 "nbformat": 4,
 "nbformat_minor": 5
}
